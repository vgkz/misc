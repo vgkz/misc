{
  "nbformat": 4,
  "nbformat_minor": 0,
  "metadata": {
    "colab": {
      "provenance": [],
      "mount_file_id": "1sF_WaFs_poIcDZ_PTjPn9WgHbVgo5ME_",
      "authorship_tag": "ABX9TyO3O0rPIgyYDzqxZ4mDf/Rq"
    },
    "kernelspec": {
      "name": "python3",
      "display_name": "Python 3"
    },
    "language_info": {
      "name": "python"
    }
  },
  "cells": [
    {
      "cell_type": "code",
      "execution_count": 1,
      "metadata": {
        "id": "HhFxvbFoAXB6"
      },
      "outputs": [],
      "source": [
        "import torch\n",
        "from torch.utils.data import Dataset\n",
        "import torchaudio\n",
        "import matplotlib.pyplot as plt\n",
        "import pandas as pd\n",
        "from os import listdir\n",
        "from sklearn.preprocessing import LabelEncoder\n",
        "from torch.utils.data import DataLoader"
      ]
    },
    {
      "cell_type": "code",
      "source": [
        "audio_files = listdir('drive/MyDrive/mp3s/')\n",
        "\n",
        "def get_species(mp3_dir):\n",
        "  split_file = mp3_dir.split('.')\n",
        "  species_name = split_file[0].rstrip('0123456789')\n",
        "  return species_name\n",
        "\n",
        "species_list = list(map(get_species, audio_files))\n",
        "\n",
        "label_encoder = LabelEncoder()\n",
        "label_encoder.fit(species_list)"
      ],
      "metadata": {
        "colab": {
          "base_uri": "https://localhost:8080/",
          "height": 75
        },
        "id": "RGoY5pedH_rJ",
        "outputId": "a88385c9-fe43-49f1-a1da-f776430b58a3"
      },
      "execution_count": 2,
      "outputs": [
        {
          "output_type": "execute_result",
          "data": {
            "text/plain": [
              "LabelEncoder()"
            ],
            "text/html": [
              "<style>#sk-container-id-1 {color: black;background-color: white;}#sk-container-id-1 pre{padding: 0;}#sk-container-id-1 div.sk-toggleable {background-color: white;}#sk-container-id-1 label.sk-toggleable__label {cursor: pointer;display: block;width: 100%;margin-bottom: 0;padding: 0.3em;box-sizing: border-box;text-align: center;}#sk-container-id-1 label.sk-toggleable__label-arrow:before {content: \"▸\";float: left;margin-right: 0.25em;color: #696969;}#sk-container-id-1 label.sk-toggleable__label-arrow:hover:before {color: black;}#sk-container-id-1 div.sk-estimator:hover label.sk-toggleable__label-arrow:before {color: black;}#sk-container-id-1 div.sk-toggleable__content {max-height: 0;max-width: 0;overflow: hidden;text-align: left;background-color: #f0f8ff;}#sk-container-id-1 div.sk-toggleable__content pre {margin: 0.2em;color: black;border-radius: 0.25em;background-color: #f0f8ff;}#sk-container-id-1 input.sk-toggleable__control:checked~div.sk-toggleable__content {max-height: 200px;max-width: 100%;overflow: auto;}#sk-container-id-1 input.sk-toggleable__control:checked~label.sk-toggleable__label-arrow:before {content: \"▾\";}#sk-container-id-1 div.sk-estimator input.sk-toggleable__control:checked~label.sk-toggleable__label {background-color: #d4ebff;}#sk-container-id-1 div.sk-label input.sk-toggleable__control:checked~label.sk-toggleable__label {background-color: #d4ebff;}#sk-container-id-1 input.sk-hidden--visually {border: 0;clip: rect(1px 1px 1px 1px);clip: rect(1px, 1px, 1px, 1px);height: 1px;margin: -1px;overflow: hidden;padding: 0;position: absolute;width: 1px;}#sk-container-id-1 div.sk-estimator {font-family: monospace;background-color: #f0f8ff;border: 1px dotted black;border-radius: 0.25em;box-sizing: border-box;margin-bottom: 0.5em;}#sk-container-id-1 div.sk-estimator:hover {background-color: #d4ebff;}#sk-container-id-1 div.sk-parallel-item::after {content: \"\";width: 100%;border-bottom: 1px solid gray;flex-grow: 1;}#sk-container-id-1 div.sk-label:hover label.sk-toggleable__label {background-color: #d4ebff;}#sk-container-id-1 div.sk-serial::before {content: \"\";position: absolute;border-left: 1px solid gray;box-sizing: border-box;top: 0;bottom: 0;left: 50%;z-index: 0;}#sk-container-id-1 div.sk-serial {display: flex;flex-direction: column;align-items: center;background-color: white;padding-right: 0.2em;padding-left: 0.2em;position: relative;}#sk-container-id-1 div.sk-item {position: relative;z-index: 1;}#sk-container-id-1 div.sk-parallel {display: flex;align-items: stretch;justify-content: center;background-color: white;position: relative;}#sk-container-id-1 div.sk-item::before, #sk-container-id-1 div.sk-parallel-item::before {content: \"\";position: absolute;border-left: 1px solid gray;box-sizing: border-box;top: 0;bottom: 0;left: 50%;z-index: -1;}#sk-container-id-1 div.sk-parallel-item {display: flex;flex-direction: column;z-index: 1;position: relative;background-color: white;}#sk-container-id-1 div.sk-parallel-item:first-child::after {align-self: flex-end;width: 50%;}#sk-container-id-1 div.sk-parallel-item:last-child::after {align-self: flex-start;width: 50%;}#sk-container-id-1 div.sk-parallel-item:only-child::after {width: 0;}#sk-container-id-1 div.sk-dashed-wrapped {border: 1px dashed gray;margin: 0 0.4em 0.5em 0.4em;box-sizing: border-box;padding-bottom: 0.4em;background-color: white;}#sk-container-id-1 div.sk-label label {font-family: monospace;font-weight: bold;display: inline-block;line-height: 1.2em;}#sk-container-id-1 div.sk-label-container {text-align: center;}#sk-container-id-1 div.sk-container {/* jupyter's `normalize.less` sets `[hidden] { display: none; }` but bootstrap.min.css set `[hidden] { display: none !important; }` so we also need the `!important` here to be able to override the default hidden behavior on the sphinx rendered scikit-learn.org. See: https://github.com/scikit-learn/scikit-learn/issues/21755 */display: inline-block !important;position: relative;}#sk-container-id-1 div.sk-text-repr-fallback {display: none;}</style><div id=\"sk-container-id-1\" class=\"sk-top-container\"><div class=\"sk-text-repr-fallback\"><pre>LabelEncoder()</pre><b>In a Jupyter environment, please rerun this cell to show the HTML representation or trust the notebook. <br />On GitHub, the HTML representation is unable to render, please try loading this page with nbviewer.org.</b></div><div class=\"sk-container\" hidden><div class=\"sk-item\"><div class=\"sk-estimator sk-toggleable\"><input class=\"sk-toggleable__control sk-hidden--visually\" id=\"sk-estimator-id-1\" type=\"checkbox\" checked><label for=\"sk-estimator-id-1\" class=\"sk-toggleable__label sk-toggleable__label-arrow\">LabelEncoder</label><div class=\"sk-toggleable__content\"><pre>LabelEncoder()</pre></div></div></div></div></div>"
            ]
          },
          "metadata": {},
          "execution_count": 2
        }
      ]
    },
    {
      "cell_type": "code",
      "source": [
        "test_frame = pd.DataFrame({'species': species_list,\n",
        "                           'labels': label_encoder.transform(species_list),\n",
        "                           'audio_file': audio_files})"
      ],
      "metadata": {
        "id": "X218WYf7IR-t"
      },
      "execution_count": 3,
      "outputs": []
    },
    {
      "cell_type": "code",
      "source": [
        "class AudioDataSet(Dataset):\n",
        "  def __init__(self, file_df, audio_dir, audio_length = 10, resample_rate = 48000):\n",
        "    self.file_df = file_df\n",
        "    self.audio_dir = audio_dir\n",
        "    self.audio_length = audio_length\n",
        "    self.resample_rate = resample_rate\n",
        "    self.transform = torchaudio.transforms.MelSpectrogram(self.resample_rate/2,\n",
        "                                                          n_fft=1024)\n",
        "\n",
        "  def __len__(self):\n",
        "    return(self.file_df.shape[0])\n",
        "\n",
        "  def __getitem__(self, idx):\n",
        "    idx_row = self.file_df.loc[idx]\n",
        "\n",
        "    label = idx_row.labels\n",
        "\n",
        "    file_dir = self.audio_dir + idx_row.audio_file\n",
        "    wav, sample_rate = torchaudio.load(file_dir)\n",
        "    wav = wav[0,0:self.audio_length*sample_rate]\n",
        "    # pad short audio clips\n",
        "    if wav.size()[0] < (self.audio_length*sample_rate):\n",
        "      pad_tensor = torch.zeros((self.audio_length*sample_rate - wav.size()[0]))\n",
        "      wav = torch.cat((wav, pad_tensor))\n",
        "\n",
        "    wav = torchaudio.functional.resample(wav, sample_rate, self.resample_rate)\n",
        "    wav += 0.001\n",
        "\n",
        "    mel_spec = self.transform(wav)\n",
        "    mel_spec = mel_spec.log2()\n",
        "    mel_spec = torch.unsqueeze(mel_spec, 0)\n",
        "    return mel_spec, label\n"
      ],
      "metadata": {
        "id": "UtV73bsBHATQ"
      },
      "execution_count": 61,
      "outputs": []
    },
    {
      "cell_type": "code",
      "source": [
        "test_set = AudioDataSet(test_frame, 'drive/MyDrive/mp3s/')\n",
        "len(test_set)"
      ],
      "metadata": {
        "colab": {
          "base_uri": "https://localhost:8080/"
        },
        "id": "pOlkrY3UK-zr",
        "outputId": "a726a002-a10a-487f-c770-425f8a3d2871"
      },
      "execution_count": 62,
      "outputs": [
        {
          "output_type": "execute_result",
          "data": {
            "text/plain": [
              "2140"
            ]
          },
          "metadata": {},
          "execution_count": 62
        }
      ]
    },
    {
      "cell_type": "code",
      "source": [
        "loader = DataLoader(test_set, batch_size = 64, shuffle = True)"
      ],
      "metadata": {
        "id": "WIsJR7vPQZmC"
      },
      "execution_count": 63,
      "outputs": []
    },
    {
      "cell_type": "code",
      "source": [
        "test_set[0][0].size()"
      ],
      "metadata": {
        "colab": {
          "base_uri": "https://localhost:8080/"
        },
        "id": "gtJDwbZXa2YA",
        "outputId": "bfe8ca3a-b6e7-4284-eeac-eb3071cc9225"
      },
      "execution_count": 64,
      "outputs": [
        {
          "output_type": "execute_result",
          "data": {
            "text/plain": [
              "torch.Size([1, 128, 938])"
            ]
          },
          "metadata": {},
          "execution_count": 64
        }
      ]
    },
    {
      "cell_type": "code",
      "source": [
        "import torch.nn.functional as F\n",
        "class AudioModel(torch.nn.Module):\n",
        "  def __init__(self, n_species):\n",
        "    super(AudioModel, self).__init__()\n",
        "    self.n_species = n_species\n",
        "\n",
        "    self.conv_layer1 = torch.nn.Conv2d(1, 1, 3)\n",
        "    self.conv_layer2 = torch.nn.Conv2d(1, 1, 3)\n",
        "    self.conv_layer3 = torch.nn.Conv2d(1, 1, 3)\n",
        "    self.conv_layer4 = torch.nn.Conv2d(1, 1, 3)\n",
        "    self.conv_layer5 = torch.nn.Conv2d(1, 1, 3)\n",
        "\n",
        "    self.batchnorm = torch.nn.BatchNorm1d(54)\n",
        "    self.linear_layer = torch.nn.Linear(54 , 54)\n",
        "    self.classification_layer = torch.nn.Linear(54, self.n_species)\n",
        "\n",
        "  def n_features(self, x):\n",
        "    size = x.size()[1:]\n",
        "    num_features = 1\n",
        "    for s in size:\n",
        "      num_features *= s\n",
        "    return num_features\n",
        "\n",
        "  def forward(self, x):\n",
        "    x = F.max_pool2d(F.relu(self.conv_layer1(x)), (2, 2))\n",
        "    x = F.max_pool2d(F.relu(self.conv_layer2(x)), (2, 2))\n",
        "    x = F.max_pool2d(F.relu(self.conv_layer3(x)), (2, 2))\n",
        "    x = F.max_pool2d(F.relu(self.conv_layer4(x)), (2, 2))\n",
        "    x = F.max_pool2d(F.relu(self.conv_layer5(x)), (2, 2))\n",
        "\n",
        "    x = x.view(-1, self.n_features(x))\n",
        "    x = self.batchnorm(x)\n",
        "    x = F.relu(self.linear_layer(x))\n",
        "    x = self.classification_layer(x)\n",
        "    return x"
      ],
      "metadata": {
        "id": "fa3FKDZ7TqWp"
      },
      "execution_count": 96,
      "outputs": []
    },
    {
      "cell_type": "code",
      "source": [
        "model = AudioModel(22)"
      ],
      "metadata": {
        "id": "ClBjUdgebpF1"
      },
      "execution_count": 97,
      "outputs": []
    },
    {
      "cell_type": "code",
      "source": [
        "model(next(iter(loader))[0])"
      ],
      "metadata": {
        "colab": {
          "base_uri": "https://localhost:8080/"
        },
        "id": "fHetkcEDbseA",
        "outputId": "53bc250b-d743-4414-f56e-aa95a141e80d"
      },
      "execution_count": 98,
      "outputs": [
        {
          "output_type": "execute_result",
          "data": {
            "text/plain": [
              "tensor([[-0.0446,  0.0786,  0.1160,  ..., -0.0550, -0.0040,  0.0203],\n",
              "        [-0.0446,  0.0786,  0.1160,  ..., -0.0550, -0.0040,  0.0203],\n",
              "        [-0.0446,  0.0786,  0.1160,  ..., -0.0550, -0.0040,  0.0203],\n",
              "        ...,\n",
              "        [-0.0446,  0.0786,  0.1160,  ..., -0.0550, -0.0040,  0.0203],\n",
              "        [-0.0446,  0.0786,  0.1160,  ..., -0.0550, -0.0040,  0.0203],\n",
              "        [-0.0446,  0.0786,  0.1160,  ..., -0.0550, -0.0040,  0.0203]],\n",
              "       grad_fn=<AddmmBackward0>)"
            ]
          },
          "metadata": {},
          "execution_count": 98
        }
      ]
    }
  ]
}